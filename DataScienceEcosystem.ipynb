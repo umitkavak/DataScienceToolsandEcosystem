{
 "cells": [
  {
   "cell_type": "markdown",
   "id": "aa7e6cef-afcf-48db-a579-8d70466875f5",
   "metadata": {},
   "source": [
    "# Data Science Tools and Ecosystem"
   ]
  },
  {
   "cell_type": "markdown",
   "id": "b930ae5e-e934-4a8c-9404-2c3489991a33",
   "metadata": {},
   "source": [
    "In this notebook, Data Science Tools and Ecosystem are summarized."
   ]
  },
  {
   "cell_type": "markdown",
   "id": "282dccea-cb7e-43be-bfb3-76a2ccea52b5",
   "metadata": {},
   "source": [
    "Some of the popular languages that Data Scientists use are:\n",
    "1. Python\n",
    "2. R\n",
    "3. Julia\n",
    "4. SQL"
   ]
  },
  {
   "cell_type": "markdown",
   "id": "1acb1b8e-7a9e-4715-99fc-c4993387e03e",
   "metadata": {},
   "source": [
    "__Objectives:__\n",
    "- Become familiar with the Data Scientist’s tool kit which includes: Libraries & Packages, Data Sets, Machine Learning Models, Kernels, as well as the various Open source, commercial, Big Data and Cloud-based tools. \n",
    "- Work with Jupyter Notebooks, JupyterLab, RStudio IDE, Git, GitHub, and Watson Studio. You will understand what each tool is used for, what programming languages they can execute, their features and limitations. \n",
    "- Employ hands-on experience in order to develop skills for working with these Data Science Tools. With the tools hosted in the cloud on Skills Network Labs, you will be able to test each tool and follow instructions to run simple code in Python, R, or Scala.\n",
    "- Create a final project with a Jupyter Notebook. "
   ]
  },
  {
   "cell_type": "markdown",
   "id": "d74bcf3d-7dee-47e5-aa8f-e1d3b1cbca10",
   "metadata": {},
   "source": [
    "Some of the commonly used libraries used by Data Scientists include:\n",
    "1. Sci-kit\n",
    "2. TensorFlow\n",
    "3. Keras"
   ]
  },
  {
   "cell_type": "markdown",
   "id": "5becf7f2-8555-4fab-908a-a0bc8147f898",
   "metadata": {
    "tags": []
   },
   "source": [
    "| Data Science Tools |\n",
    "|---|\n",
    "| Github |\n",
    "| Apache Hadoop |\n",
    "| Jupyter Notebook |"
   ]
  },
  {
   "cell_type": "markdown",
   "id": "587a26c5-471c-4fa8-a0f9-4e139a4ef664",
   "metadata": {
    "tags": []
   },
   "source": [
    "### Below are a few examples of evaluating arithmetic expressions in Python"
   ]
  },
  {
   "cell_type": "markdown",
   "id": "d26a74a9-d560-4aff-9c55-b6f7b3c315a8",
   "metadata": {
    "tags": []
   },
   "source": [
    "This is a simple arithmetic expression to multiply then add integers."
   ]
  },
  {
   "cell_type": "code",
   "execution_count": 32,
   "id": "f390105c-decd-405c-bd53-47c550ca8770",
   "metadata": {
    "tags": []
   },
   "outputs": [
    {
     "data": {
      "text/plain": [
       "17"
      ]
     },
     "execution_count": 32,
     "metadata": {},
     "output_type": "execute_result"
    }
   ],
   "source": [
    "(3*4)+5"
   ]
  },
  {
   "cell_type": "code",
   "execution_count": 45,
   "id": "9677309a-6a21-4b46-9404-795e3ce45f60",
   "metadata": {
    "tags": []
   },
   "outputs": [
    {
     "name": "stdout",
     "output_type": "stream",
     "text": [
      "200 minutes is equal to 3.33 hours.\n"
     ]
    }
   ],
   "source": [
    "hours = 200\n",
    "# This will convert 200 minutes to hours by diving by 60\n",
    "hourstominute = 200/60\n",
    "print(hours, \"minutes is equal to\", round(hourstominute,2), \"hours.\")"
   ]
  },
  {
   "cell_type": "markdown",
   "id": "797a302d-64e5-4af2-a5bf-e695a5d0065f",
   "metadata": {},
   "source": [
    "## Author\n",
    "Umit Kavak"
   ]
  },
  {
   "cell_type": "code",
   "execution_count": null,
   "id": "3daa86e1-02ab-4c8d-87e7-d98ee8ee0bf3",
   "metadata": {},
   "outputs": [],
   "source": []
  }
 ],
 "metadata": {
  "kernelspec": {
   "display_name": "Python 3 (ipykernel)",
   "language": "python",
   "name": "python3"
  },
  "language_info": {
   "codemirror_mode": {
    "name": "ipython",
    "version": 3
   },
   "file_extension": ".py",
   "mimetype": "text/x-python",
   "name": "python",
   "nbconvert_exporter": "python",
   "pygments_lexer": "ipython3",
   "version": "3.11.7"
  }
 },
 "nbformat": 4,
 "nbformat_minor": 5
}
